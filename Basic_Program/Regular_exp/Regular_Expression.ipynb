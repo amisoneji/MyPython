{
 "cells": [
  {
   "cell_type": "markdown",
   "metadata": {},
   "source": [
    "__program 1: Write a Python program to check that a string contains only a certain set of characters (in this case a-z, A-Z and 0-9).__ \n",
    "\n"
   ]
  },
  {
   "cell_type": "code",
   "execution_count": 177,
   "metadata": {},
   "outputs": [],
   "source": [
    "import re\n",
    "def str_check(str):\n",
    "    if re.search(r\"[^(a-zA-Z0-9)*]\",str):\n",
    "        return \"not match\"\n",
    "    else:\n",
    "        return \"matchd\""
   ]
  },
  {
   "cell_type": "code",
   "execution_count": 178,
   "metadata": {},
   "outputs": [
    {
     "data": {
      "text/plain": [
       "'matchd'"
      ]
     },
     "execution_count": 178,
     "metadata": {},
     "output_type": "execute_result"
    }
   ],
   "source": [
    "an=str_check(\"ami\")\n",
    "an"
   ]
  },
  {
   "cell_type": "markdown",
   "metadata": {},
   "source": [
    "__program 2: Write a Python program that matches a string that has an a followed by zero or more b's.__"
   ]
  },
  {
   "cell_type": "code",
   "execution_count": 72,
   "metadata": {},
   "outputs": [],
   "source": [
    "def string_match(str):\n",
    "        if re.search('ab*?',str):\n",
    "                return 'Found a match!'\n",
    "        else:\n",
    "                return'Not matched!'\n"
   ]
  },
  {
   "cell_type": "code",
   "execution_count": 73,
   "metadata": {},
   "outputs": [
    {
     "data": {
      "text/plain": [
       "'Not matched!'"
      ]
     },
     "execution_count": 73,
     "metadata": {},
     "output_type": "execute_result"
    }
   ],
   "source": [
    "st_ma=string_match(\"bbbbb\")\n",
    "st_ma"
   ]
  },
  {
   "cell_type": "markdown",
   "metadata": {},
   "source": [
    "__program 3:Write a Python program that matches a string that has an a followed by one or more b's.__ "
   ]
  },
  {
   "cell_type": "code",
   "execution_count": 74,
   "metadata": {},
   "outputs": [],
   "source": [
    "def string_match1(str):\n",
    "        if re.search('ab+?',str):\n",
    "                return 'Found a match!'\n",
    "        else:\n",
    "                return'Not matched!'\n"
   ]
  },
  {
   "cell_type": "code",
   "execution_count": 75,
   "metadata": {},
   "outputs": [
    {
     "data": {
      "text/plain": [
       "'Not matched!'"
      ]
     },
     "execution_count": 75,
     "metadata": {},
     "output_type": "execute_result"
    }
   ],
   "source": [
    "st_ma1=string_match1(\"ajnk\")\n",
    "st_ma1"
   ]
  },
  {
   "cell_type": "markdown",
   "metadata": {},
   "source": [
    "__program 4: Write a Python program that matches a string that has an a followed by zero or one 'b'.__"
   ]
  },
  {
   "cell_type": "code",
   "execution_count": 76,
   "metadata": {},
   "outputs": [],
   "source": [
    "def string_match2(str):\n",
    "        if re.search('ab?',str):\n",
    "                return 'Found a match!'\n",
    "        else:\n",
    "                return'Not matched!'\n"
   ]
  },
  {
   "cell_type": "code",
   "execution_count": 65,
   "metadata": {},
   "outputs": [
    {
     "data": {
      "text/plain": [
       "'Found a match!'"
      ]
     },
     "execution_count": 65,
     "metadata": {},
     "output_type": "execute_result"
    }
   ],
   "source": [
    "st_ma2=string_match2(\"abbbbbbbbb\")\n",
    "st_ma2"
   ]
  },
  {
   "cell_type": "markdown",
   "metadata": {},
   "source": [
    "__program 5: Write a Python program that matches a string that has an a followed by three 'b'.__ \n",
    "\n"
   ]
  },
  {
   "cell_type": "code",
   "execution_count": 77,
   "metadata": {},
   "outputs": [],
   "source": [
    "def string_match3(str):\n",
    "        if re.search('ab{3}?',str):\n",
    "                return 'Found a match!'\n",
    "        else:\n",
    "                return'Not matched!'\n"
   ]
  },
  {
   "cell_type": "code",
   "execution_count": 79,
   "metadata": {},
   "outputs": [
    {
     "data": {
      "text/plain": [
       "'Not matched!'"
      ]
     },
     "execution_count": 79,
     "metadata": {},
     "output_type": "execute_result"
    }
   ],
   "source": [
    "st_ma3=string_match3(\"mmabnl\")\n",
    "st_ma3"
   ]
  },
  {
   "cell_type": "markdown",
   "metadata": {},
   "source": [
    "__program 6:Write a Python program that matches a string that has an a followed by two to three 'b'.__ "
   ]
  },
  {
   "cell_type": "code",
   "execution_count": 85,
   "metadata": {},
   "outputs": [],
   "source": [
    "def string_match4(str):\n",
    "        if re.search('ab{2,3}',str):\n",
    "                return 'Found a match!'\n",
    "        else:\n",
    "                return 'Not matched!'\n"
   ]
  },
  {
   "cell_type": "code",
   "execution_count": 87,
   "metadata": {},
   "outputs": [
    {
     "data": {
      "text/plain": [
       "'Not matched!'"
      ]
     },
     "execution_count": 87,
     "metadata": {},
     "output_type": "execute_result"
    }
   ],
   "source": [
    "st_ma4=string_match4(\"mmabnl\")\n",
    "st_ma4"
   ]
  },
  {
   "cell_type": "markdown",
   "metadata": {},
   "source": [
    "__program 7: Write a Python program to find sequences of lowercase letters joined with an underscore.__ "
   ]
  },
  {
   "cell_type": "code",
   "execution_count": 88,
   "metadata": {},
   "outputs": [],
   "source": [
    "def seq_get(seq):\n",
    "    itr=re.finditer(\"[a-z][_][a-z]\",seq)\n",
    "    for i in itr:\n",
    "        print(i.group())\n",
    "    "
   ]
  },
  {
   "cell_type": "code",
   "execution_count": 90,
   "metadata": {},
   "outputs": [
    {
     "name": "stdout",
     "output_type": "stream",
     "text": [
      "h_v\n",
      "l_e\n"
     ]
    }
   ],
   "source": [
    "seq_op=seq_get(\"ajjh_vpLnK_Tvnl_e\")\n",
    "seq_op"
   ]
  },
  {
   "cell_type": "markdown",
   "metadata": {},
   "source": [
    "__program 8: Write a Python program to find the sequences of one upper case letter followed by lower case letters__"
   ]
  },
  {
   "cell_type": "code",
   "execution_count": 93,
   "metadata": {},
   "outputs": [],
   "source": [
    "def seq_get_ul(seq):\n",
    "    itr=re.finditer(\"[A-Z][a-z]\",seq)\n",
    "    for i in itr:\n",
    "        print(i.group())\n",
    "    "
   ]
  },
  {
   "cell_type": "code",
   "execution_count": 94,
   "metadata": {},
   "outputs": [
    {
     "name": "stdout",
     "output_type": "stream",
     "text": [
      "Jk\n",
      "Bh\n"
     ]
    }
   ],
   "source": [
    "seq_op_ul=seq_get_ul(\"abnJklmBhi\")\n",
    "seq_op"
   ]
  },
  {
   "cell_type": "markdown",
   "metadata": {},
   "source": [
    "__program 9:Write a Python program that matches a string that has an 'a' followed by anything, ending in 'b'.__"
   ]
  },
  {
   "cell_type": "code",
   "execution_count": 95,
   "metadata": {},
   "outputs": [],
   "source": [
    "def seq_a_b(seq):\n",
    "    itr=re.finditer(\"[a].[b]\",seq)\n",
    "    for i in itr:\n",
    "        print(i.group())\n",
    "   "
   ]
  },
  {
   "cell_type": "code",
   "execution_count": 97,
   "metadata": {},
   "outputs": [
    {
     "name": "stdout",
     "output_type": "stream",
     "text": [
      "anb\n",
      "alb\n"
     ]
    }
   ],
   "source": [
    "seqq=seq_a_b(\"jklanbstuvalb\")\n",
    "seqq\n"
   ]
  },
  {
   "cell_type": "markdown",
   "metadata": {},
   "source": [
    "__program 10:Write a Python program that matches a word at the beginning of a string.__"
   ]
  },
  {
   "cell_type": "code",
   "execution_count": 98,
   "metadata": {},
   "outputs": [],
   "source": [
    "def word_match(str):\n",
    "        if re.search('^\\w+',str): \n",
    "                return 'Found a match!'\n",
    "        else:\n",
    "                return 'Not matched!'\n"
   ]
  },
  {
   "cell_type": "code",
   "execution_count": 102,
   "metadata": {},
   "outputs": [
    {
     "data": {
      "text/plain": [
       "'Not matched!'"
      ]
     },
     "execution_count": 102,
     "metadata": {},
     "output_type": "execute_result"
    }
   ],
   "source": [
    "wo_match=word_match(\"@hello!here is python string\")\n",
    "wo_match"
   ]
  },
  {
   "cell_type": "markdown",
   "metadata": {},
   "source": [
    "__program 11:Write a Python program that matches a word at the end of string, with optional punctuation.__\n",
    "\n"
   ]
  },
  {
   "cell_type": "code",
   "execution_count": 103,
   "metadata": {},
   "outputs": [],
   "source": [
    "def word_match_end(str):\n",
    "        if re.search(\"\\w+\\S*$\",str):\n",
    "                return 'Found a match!'\n",
    "        else:\n",
    "                return 'Not matched!'\n"
   ]
  },
  {
   "cell_type": "code",
   "execution_count": 108,
   "metadata": {},
   "outputs": [
    {
     "data": {
      "text/plain": [
       "'Found a match!'"
      ]
     },
     "execution_count": 108,
     "metadata": {},
     "output_type": "execute_result"
    }
   ],
   "source": [
    "word_match=word_match_end(\"@hello!here is python string\")\n",
    "word_match\n"
   ]
  },
  {
   "cell_type": "markdown",
   "metadata": {},
   "source": [
    "__program 12: Write a Python program that matches a word containing 'z'.__"
   ]
  },
  {
   "cell_type": "code",
   "execution_count": 109,
   "metadata": {},
   "outputs": [],
   "source": [
    "def word_match_z(str):\n",
    "        if re.search(\"\\w*z.\\w*\",str):\n",
    "                return 'Found a match!'\n",
    "        else:\n",
    "                return 'Not matched!'\n"
   ]
  },
  {
   "cell_type": "code",
   "execution_count": 112,
   "metadata": {},
   "outputs": [
    {
     "data": {
      "text/plain": [
       "'Not matched!'"
      ]
     },
     "execution_count": 112,
     "metadata": {},
     "output_type": "execute_result"
    }
   ],
   "source": [
    "match_z=word_match_z(\"cat colour is white and black\")\n",
    "match_z"
   ]
  },
  {
   "cell_type": "markdown",
   "metadata": {},
   "source": [
    "__program 13:Write a Python program that matches a word containing 'z', not at the start or end of the word.__ "
   ]
  },
  {
   "cell_type": "code",
   "execution_count": 113,
   "metadata": {},
   "outputs": [],
   "source": [
    "def word_match_zbet(str):\n",
    "        if re.search(\"\\Bz\\B\",str):\n",
    "                return 'Found a match!'\n",
    "        else:\n",
    "                return 'Not matched!'\n"
   ]
  },
  {
   "cell_type": "code",
   "execution_count": 115,
   "metadata": {},
   "outputs": [
    {
     "data": {
      "text/plain": [
       "'Found a match!'"
      ]
     },
     "execution_count": 115,
     "metadata": {},
     "output_type": "execute_result"
    }
   ],
   "source": [
    "match=word_match_zbet(\"the dog is very lazy\")\n",
    "match"
   ]
  },
  {
   "cell_type": "markdown",
   "metadata": {},
   "source": [
    "__program 14:Write a Python program to match a string that contains only upper and lowercase letters, numbers, and underscores.__ "
   ]
  },
  {
   "cell_type": "code",
   "execution_count": 122,
   "metadata": {},
   "outputs": [],
   "source": [
    "def check_multicase(str):\n",
    "    if re.search(\"^[a-zA-Z0-9_]*$\",str):\n",
    "        return 'Found a match!'\n",
    "    else:\n",
    "        return 'Not matched!'\n"
   ]
  },
  {
   "cell_type": "code",
   "execution_count": 124,
   "metadata": {},
   "outputs": [
    {
     "data": {
      "text/plain": [
       "'Found a match!'"
      ]
     },
     "execution_count": 124,
     "metadata": {},
     "output_type": "execute_result"
    }
   ],
   "source": [
    "multicase=check_multicase(\"here_some123\")\n",
    "multicase"
   ]
  },
  {
   "cell_type": "markdown",
   "metadata": {},
   "source": [
    "__program 15:Write a Python program where a string will start with a specific number.__"
   ]
  },
  {
   "cell_type": "code",
   "execution_count": 15,
   "metadata": {},
   "outputs": [],
   "source": [
    "def ma_num(str):\n",
    "    if re.match(\"[0-9]\",str):\n",
    "        return \"string matched\"\n",
    "    else:\n",
    "        return \"not matched\"\n",
    "    "
   ]
  },
  {
   "cell_type": "code",
   "execution_count": 17,
   "metadata": {},
   "outputs": [
    {
     "data": {
      "text/plain": [
       "'string matched'"
      ]
     },
     "execution_count": 17,
     "metadata": {},
     "output_type": "execute_result"
    }
   ],
   "source": [
    "m_num=ma_num(\"98mk\")\n",
    "m_num"
   ]
  },
  {
   "cell_type": "markdown",
   "metadata": {},
   "source": [
    "__program 16:Write a Python program to remove leading zeros from an IP address.__"
   ]
  },
  {
   "cell_type": "code",
   "execution_count": 23,
   "metadata": {},
   "outputs": [
    {
     "name": "stdout",
     "output_type": "stream",
     "text": [
      "enter your ip:209.45.09.44\n",
      "209.45.9.44\n"
     ]
    }
   ],
   "source": [
    "ip=input(\"enter your ip:\")\n",
    "string = re.sub('\\.[0]*', '.', ip)\n",
    "print(string)"
   ]
  },
  {
   "cell_type": "markdown",
   "metadata": {},
   "source": [
    "__program 17. Write a Python program to check for a number at the end of a string.__"
   ]
  },
  {
   "cell_type": "code",
   "execution_count": 28,
   "metadata": {},
   "outputs": [],
   "source": [
    "def check_num(str):\n",
    "    if re.search(\"[0-9]$\",str):\n",
    "        return \"found match\"\n",
    "    else:\n",
    "        return \"not matched\"\n",
    "    "
   ]
  },
  {
   "cell_type": "code",
   "execution_count": 30,
   "metadata": {},
   "outputs": [
    {
     "data": {
      "text/plain": [
       "'not matched'"
      ]
     },
     "execution_count": 30,
     "metadata": {},
     "output_type": "execute_result"
    }
   ],
   "source": [
    "num=check_num(\"anjnynnm\")\n",
    "num"
   ]
  },
  {
   "cell_type": "markdown",
   "metadata": {},
   "source": [
    "__program 18:Write a Python program to search the numbers (0-9) of length between 1 to 3 in a given string.__"
   ]
  },
  {
   "cell_type": "code",
   "execution_count": 35,
   "metadata": {},
   "outputs": [
    {
     "name": "stdout",
     "output_type": "stream",
     "text": [
      "1\n",
      "12\n",
      "13\n",
      "345\n"
     ]
    }
   ],
   "source": [
    "string=\"Exercises number 1, 12, 13, and 345 are important\"\n",
    "nums=re.finditer(\"[0-9]{1,3}\",string)\n",
    "for match in nums:\n",
    "    print (match.group(0))"
   ]
  },
  {
   "cell_type": "markdown",
   "metadata": {},
   "source": [
    "__program 19: Write a Python program to search some literals strings in a string.__"
   ]
  },
  {
   "cell_type": "code",
   "execution_count": 37,
   "metadata": {},
   "outputs": [
    {
     "name": "stdout",
     "output_type": "stream",
     "text": [
      "enter a string:lll\n",
      "not matched\n"
     ]
    }
   ],
   "source": [
    "text='The quick brown fox jumps over the lazy dog.'\n",
    "serch_string=input(\"enter a string:\")\n",
    "if re.search(serch_string,text):\n",
    "    print(\"matched\")\n",
    "else:\n",
    "    print(\"not matched\")"
   ]
  },
  {
   "cell_type": "markdown",
   "metadata": {},
   "source": [
    "__program 20:Write a Python program to search a literals string in a string and also find the location within the original string where the pattern occurs.__ "
   ]
  },
  {
   "cell_type": "code",
   "execution_count": 41,
   "metadata": {},
   "outputs": [
    {
     "name": "stdout",
     "output_type": "stream",
     "text": [
      "enter a string:ll\n",
      "not matched\n"
     ]
    }
   ],
   "source": [
    "text='The quick brown fox jumps over the lazy dog.'\n",
    "serch_string=input(\"enter a string:\")\n",
    "match=re.search(serch_string,text)\n",
    "if match:\n",
    "    print(\"matched\")\n",
    "    print(\"starting\",match.start())\n",
    "    print(\"end with\",match.end())\n",
    "    \n",
    "else:\n",
    "    print(\"not matched\")"
   ]
  },
  {
   "cell_type": "markdown",
   "metadata": {},
   "source": [
    "__program 21:Write a Python program to find the substrings within a string.__"
   ]
  },
  {
   "cell_type": "code",
   "execution_count": 44,
   "metadata": {},
   "outputs": [
    {
     "name": "stdout",
     "output_type": "stream",
     "text": [
      "string: exercises\n",
      "the occurance of string 3\n"
     ]
    }
   ],
   "source": [
    "text='Python exercises, PHP exercises, C# exercises'\n",
    "match=re.findall(\"exercises\",text)\n",
    "print(\"string:\",match[0])\n",
    "print(\"the occurance of string\",len(match))"
   ]
  },
  {
   "cell_type": "markdown",
   "metadata": {},
   "source": [
    "__program 22:Write a Python program to find the occurrence and position of the substrings within a string.__"
   ]
  },
  {
   "cell_type": "code",
   "execution_count": 51,
   "metadata": {},
   "outputs": [
    {
     "name": "stdout",
     "output_type": "stream",
     "text": [
      "1 occurance\n",
      "(7, 16)\n",
      "2 occurance\n",
      "(22, 31)\n",
      "3 occurance\n",
      "(36, 45)\n"
     ]
    }
   ],
   "source": [
    "text='Python exercises, PHP exercises, C# exercises'\n",
    "match=re.finditer(\"exercises\",text)\n",
    "count=0\n",
    "for m in match:\n",
    "    count=count+1\n",
    "    print(count,\"occurance\")\n",
    "    print(m.span())\n",
    "    "
   ]
  },
  {
   "cell_type": "markdown",
   "metadata": {},
   "source": [
    "__program 23:Write a Python program to replace whitespaces with an underscore and vice versa.__ \n",
    "\n"
   ]
  },
  {
   "cell_type": "code",
   "execution_count": 52,
   "metadata": {},
   "outputs": [
    {
     "name": "stdout",
     "output_type": "stream",
     "text": [
      "here_is_use_of_substitue\n"
     ]
    }
   ],
   "source": [
    "string=\"here is use of substitue\"\n",
    "match=re.sub(\" \",\"_\",string)\n",
    "print(match)"
   ]
  },
  {
   "cell_type": "markdown",
   "metadata": {},
   "source": [
    "__program 24:Write a Python program to extract year, month and date from anurl.__"
   ]
  },
  {
   "cell_type": "code",
   "execution_count": 65,
   "metadata": {},
   "outputs": [
    {
     "name": "stdout",
     "output_type": "stream",
     "text": [
      "enter urlurlxyz.com/2021/02/03/\n",
      "[('2021', '02', '03')]\n"
     ]
    }
   ],
   "source": [
    "url=input(\"enter url\")\n",
    "match=re.findall(r'/(\\d{4})/(\\d{1,2})/(\\d{1,2})/',url)\n",
    "print(match)"
   ]
  },
  {
   "cell_type": "markdown",
   "metadata": {},
   "source": [
    "__program 25:Write a Python program to convert a date of yyyy-mm-dd format to dd-mm-yyyy format.__ "
   ]
  },
  {
   "cell_type": "code",
   "execution_count": 67,
   "metadata": {},
   "outputs": [
    {
     "name": "stdout",
     "output_type": "stream",
     "text": [
      "enter date2010-11-23\n",
      "23-11-2010\n"
     ]
    }
   ],
   "source": [
    "date=input(\"enter date\")\n",
    "match=re.sub(r'(\\d{4})-(\\d{1,2})-(\\d{1,2})','\\\\3-\\\\2-\\\\1',date)\n",
    "print(match)"
   ]
  },
  {
   "cell_type": "markdown",
   "metadata": {},
   "source": [
    "__program 26. Write a Python program to match if two words from a list of words starting with letter 'P'.__"
   ]
  },
  {
   "cell_type": "code",
   "execution_count": 87,
   "metadata": {},
   "outputs": [
    {
     "name": "stdout",
     "output_type": "stream",
     "text": [
      "('Python', 'PHP')\n"
     ]
    }
   ],
   "source": [
    "words = [\"Python PHP\", \"Java JavaScript\", \"c c++\"]\n",
    "\n",
    "for w in words:\n",
    "        m = re.match(\"(P\\w+)\\W(P\\w+)\", w)\n",
    "        if m:\n",
    "            print(m.groups())"
   ]
  },
  {
   "cell_type": "markdown",
   "metadata": {},
   "source": [
    "__program 27. Write a Python program to separate and print the numbers of a given string.__"
   ]
  },
  {
   "cell_type": "code",
   "execution_count": 82,
   "metadata": {},
   "outputs": [
    {
     "name": "stdout",
     "output_type": "stream",
     "text": [
      "9\n",
      "0\n",
      "5\n",
      "here is  numbers for  people\n"
     ]
    }
   ],
   "source": [
    "string=(\"here is 90 numbers for 5 people\")\n",
    "m=re.finditer(\"[0-9]\",string)\n",
    "for num in m:\n",
    "    print(num.group())\n",
    "mask=re.sub(\"[0-9]\",\"\",string)\n",
    "print(mask)\n"
   ]
  },
  {
   "cell_type": "markdown",
   "metadata": {},
   "source": [
    "__program 27.Write a Python program to find all words starting with 'a' or 'e' in a given string.__"
   ]
  },
  {
   "cell_type": "code",
   "execution_count": 103,
   "metadata": {},
   "outputs": [
    {
     "name": "stdout",
     "output_type": "stream",
     "text": [
      "[('ance', '')]\n"
     ]
    }
   ],
   "source": [
    "string=\"string for enhance apractice\"\n",
    "m=re.findall(\"(a\\w+)(e\\w+)?\",string)\n",
    "print(m)"
   ]
  },
  {
   "cell_type": "markdown",
   "metadata": {},
   "source": [
    "__program 28: Write a Python program to separate and print the numbers and their position of a given string.__"
   ]
  },
  {
   "cell_type": "code",
   "execution_count": 104,
   "metadata": {},
   "outputs": [
    {
     "name": "stdout",
     "output_type": "stream",
     "text": [
      "12\n",
      "index: (0, 2)\n",
      "10\n",
      "index: (22, 24)\n",
      "15\n",
      "index: (29, 31)\n"
     ]
    }
   ],
   "source": [
    "string=\"12 number  is between 10 and 15\"\n",
    "num=re.finditer(\"\\d+\",string)\n",
    "for i in num:\n",
    "    print(i.group())\n",
    "    print(\"index:\",i.span())"
   ]
  },
  {
   "cell_type": "markdown",
   "metadata": {},
   "source": [
    "__program 29:Write a Python program to abbreviate 'Road' as 'Rd.' in a given string.__ "
   ]
  },
  {
   "cell_type": "code",
   "execution_count": 106,
   "metadata": {},
   "outputs": [
    {
     "name": "stdout",
     "output_type": "stream",
     "text": [
      "the destiny is going thorugh tough Rd.\n"
     ]
    }
   ],
   "source": [
    "string=\"the destiny is going thorugh tough Road.\"\n",
    "new_string=re.sub(\"Road\",\"Rd\",string)\n",
    "print(new_string)"
   ]
  },
  {
   "cell_type": "markdown",
   "metadata": {},
   "source": [
    "__program 30:Write a Python program to replace all occurrences of space, comma, or dot with a colon.__"
   ]
  },
  {
   "cell_type": "code",
   "execution_count": 112,
   "metadata": {},
   "outputs": [
    {
     "name": "stdout",
     "output_type": "stream",
     "text": [
      "102:23:33:11\n"
     ]
    }
   ],
   "source": [
    "string=\"102 23,33.11\"\n",
    "new_string=re.sub(\"[ ,.]\",\":\",string)\n",
    "print(new_string)"
   ]
  },
  {
   "cell_type": "markdown",
   "metadata": {},
   "source": [
    "__program 31. Write a Python program to replace maximum 2 occurrences of space, comma, or dot with a colon.__"
   ]
  },
  {
   "cell_type": "code",
   "execution_count": 118,
   "metadata": {},
   "outputs": [
    {
     "name": "stdout",
     "output_type": "stream",
     "text": [
      "hereis:testing:practice.string\n"
     ]
    }
   ],
   "source": [
    "string=\"hereis testing,practice.string\"\n",
    "m=re.sub(\"[ ,.]\",\":\", string, 2)\n",
    "print(m)\n",
    "   \n"
   ]
  },
  {
   "cell_type": "markdown",
   "metadata": {},
   "source": [
    "__program 32:Write a Python program to find all five characters long word in a string.__ \n",
    "\n"
   ]
  },
  {
   "cell_type": "code",
   "execution_count": 121,
   "metadata": {},
   "outputs": [
    {
     "name": "stdout",
     "output_type": "stream",
     "text": [
      "['quick', 'brown', 'jumps']\n"
     ]
    }
   ],
   "source": [
    "text = 'The quick brown fox jumps over the lazy dog.'\n",
    "words=re.findall(r\"\\b\\w{5}\\b\", text)\n",
    "print(words)\n"
   ]
  },
  {
   "cell_type": "markdown",
   "metadata": {},
   "source": [
    "__program 33: Write a Python program to find all three, four, five characters long words in a string.__ "
   ]
  },
  {
   "cell_type": "code",
   "execution_count": 123,
   "metadata": {},
   "outputs": [
    {
     "name": "stdout",
     "output_type": "stream",
     "text": [
      "['The', 'quick', 'brown', 'fox', 'jumps', 'over', 'the', 'lazy', 'dog']\n"
     ]
    }
   ],
   "source": [
    "text = 'The quick brown fox jumps over the lazy dog.'\n",
    "words=re.findall(r\"\\b\\w{3,5}\\b\", text)\n",
    "print(words)\n"
   ]
  },
  {
   "cell_type": "markdown",
   "metadata": {},
   "source": [
    "__program 34:Write a Python program to find all words which are at least 4 characters long in a string.__ \n",
    "\n"
   ]
  },
  {
   "cell_type": "code",
   "execution_count": 124,
   "metadata": {},
   "outputs": [
    {
     "name": "stdout",
     "output_type": "stream",
     "text": [
      "['quick', 'brown', 'jumps', 'over', 'lazy']\n"
     ]
    }
   ],
   "source": [
    "text = 'The quick brown fox jumps over the lazy dog.'\n",
    "words=re.findall(r\"\\b\\w{4,}\\b\", text)\n",
    "print(words)\n"
   ]
  },
  {
   "cell_type": "markdown",
   "metadata": {},
   "source": [
    "__program 35:Write a Python program to extract values between quotation marks of a string.__"
   ]
  },
  {
   "cell_type": "code",
   "execution_count": 147,
   "metadata": {},
   "outputs": [
    {
     "name": "stdout",
     "output_type": "stream",
     "text": [
      "['geeks', 'for', 'geeks']\n"
     ]
    }
   ],
   "source": [
    "string=' some strings are present in between \"geeks\" \"for\" \"geeks\" '\n",
    "mask=re.findall('\"([^\"]*)\"',string )\n",
    "print(mask)\n",
    "                 "
   ]
  },
  {
   "cell_type": "markdown",
   "metadata": {},
   "source": [
    "__program 36: Write a Python program to remove multiple spaces in a string.__"
   ]
  },
  {
   "cell_type": "code",
   "execution_count": 158,
   "metadata": {},
   "outputs": [
    {
     "name": "stdout",
     "output_type": "stream",
     "text": [
      "some strings are present in between these\n"
     ]
    }
   ],
   "source": [
    "string='some    strings are present in between  these'\n",
    "mask=re.sub(\" +\",\" \",string)\n",
    "print(mask)\n",
    "      "
   ]
  },
  {
   "cell_type": "markdown",
   "metadata": {},
   "source": [
    "__program 37:Write a Python program to remove all whitespaces from a string.__ "
   ]
  },
  {
   "cell_type": "code",
   "execution_count": 159,
   "metadata": {},
   "outputs": [
    {
     "name": "stdout",
     "output_type": "stream",
     "text": [
      "somestringsarepresentinbetweenthese\n"
     ]
    }
   ],
   "source": [
    "string='some    strings are present in between  these'\n",
    "mask=re.sub(\" \",\"\",string)\n",
    "print(mask)\n"
   ]
  },
  {
   "cell_type": "markdown",
   "metadata": {},
   "source": [
    "__program 38:Write a Python program to remove everything except alphanumeric characters from a string.__"
   ]
  },
  {
   "cell_type": "code",
   "execution_count": 160,
   "metadata": {},
   "outputs": [
    {
     "name": "stdout",
     "output_type": "stream",
     "text": [
      "10100\n"
     ]
    }
   ],
   "source": [
    "string='some strings are present in between 10 and 100'\n",
    "mask=re.sub(\"[^0-9]*\",\"\",string)\n",
    "print(mask)\n"
   ]
  },
  {
   "cell_type": "markdown",
   "metadata": {},
   "source": [
    "__program 39. Write a Python program to split a string at uppercase letters.__"
   ]
  },
  {
   "cell_type": "code",
   "execution_count": 180,
   "metadata": {},
   "outputs": [
    {
     "name": "stdout",
     "output_type": "stream",
     "text": [
      "['Here', 'Is', 'Practice', 'String']\n"
     ]
    }
   ],
   "source": [
    "string=\"HereIsPracticeString\"\n",
    "match=re.findall(\"[A-Z][^A-Z]*\",string)\n",
    "print(match)"
   ]
  },
  {
   "cell_type": "markdown",
   "metadata": {},
   "source": [
    "__program 40:Write a Python program to do a case-insensitive string replacement.__ \n",
    "\n"
   ]
  },
  {
   "cell_type": "code",
   "execution_count": 191,
   "metadata": {},
   "outputs": [
    {
     "name": "stdout",
     "output_type": "stream",
     "text": [
      "Hello,hi,how\n",
      "hi,hi,how\n"
     ]
    }
   ],
   "source": [
    "string=\"Hello,hello,how\"\n",
    "mask=re.sub(\"hello\",\"hi\",string,re.IGNORECASE)\n",
    "#if flags added than it also change the case sensitive word.\n",
    "mask2=re.sub(\"hello\",\"hi\",string,flags=re.IGNORECASE)\n",
    "print(mask)\n",
    "print(mask2)"
   ]
  }
 ],
 "metadata": {
  "kernelspec": {
   "display_name": "Python 3",
   "language": "python",
   "name": "python3"
  },
  "language_info": {
   "codemirror_mode": {
    "name": "ipython",
    "version": 3
   },
   "file_extension": ".py",
   "mimetype": "text/x-python",
   "name": "python",
   "nbconvert_exporter": "python",
   "pygments_lexer": "ipython3",
   "version": "3.8.5"
  }
 },
 "nbformat": 4,
 "nbformat_minor": 4
}
