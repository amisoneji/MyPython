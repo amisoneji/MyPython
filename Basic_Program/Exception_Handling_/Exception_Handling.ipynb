{
 "cells": [
  {
   "cell_type": "markdown",
   "metadata": {},
   "source": [
    "# keywords for exception handling"
   ]
  },
  {
   "cell_type": "markdown",
   "metadata": {},
   "source": [
    "__it is technique to avoid abnormal program termination by executing alternative statements.__"
   ]
  },
  {
   "cell_type": "markdown",
   "metadata": {},
   "source": [
    " __Try & Except:__"
   ]
  },
  {
   "cell_type": "markdown",
   "metadata": {},
   "source": [
    "* it contains those set of statements whose execution may genrate exception.\n",
    "* often try block use either except or finally block.\n",
    "* Exception can not handle keyboard & stop iteration error but default Except can handle any exception.\n",
    "* Default except must be last handler.\n",
    "\n"
   ]
  },
  {
   "cell_type": "code",
   "execution_count": null,
   "metadata": {},
   "outputs": [],
   "source": [
    "print(\"hello\")\n",
    "l=[10,20,30,40]\n",
    "try:\n",
    "    index=int(input(\"enter index:\"))\n",
    "    print(\"value of index:\",l[index]) \n",
    "except IndexError: #index error occure when index goes out of range\n",
    "    index=0\n",
    "    print(\"due to index error,assigning 0 as a index\")\n",
    "    print(\"value of index:\",l[0])\n",
    "print(\"End\")"
   ]
  },
  {
   "cell_type": "markdown",
   "metadata": {},
   "source": [
    "**Multiple except**"
   ]
  },
  {
   "cell_type": "code",
   "execution_count": null,
   "metadata": {},
   "outputs": [],
   "source": [
    "print(\"hello\")\n",
    "l=[10,20,30,40]\n",
    "try:\n",
    "    index=int(input(\"enter index:\"))\n",
    "    print(\"value of index:\",l[index]) \n",
    "except (IndexError,ValueError): #value error occure when we give another type variable.\n",
    "    \n",
    "    index=0\n",
    "    print(\"due to index error,assigning 0 as a index\")\n",
    "    print(\"value of index:\",l[0])\n",
    "print(\"End\")"
   ]
  },
  {
   "cell_type": "code",
   "execution_count": null,
   "metadata": {},
   "outputs": [],
   "source": [
    "print(\"hello\")\n",
    "l=[10,20,30,40]\n",
    "try:\n",
    "    index=int(input(\"enter index:\"))\n",
    "    print(\"value of index:\",l[index]) \n",
    "except IndexError:\n",
    "    index=0\n",
    "    print(\"due to index error,assigning 0 as a index\")\n",
    "    print(\"value of index:\",l[0])\n",
    "except ValueError:\n",
    "    index=-1\n",
    "    print(\"due to value error,assigning -1 as a index\")\n",
    "    print(\"value of index:\",l[-1])\n",
    "\n",
    "\n",
    "print(\"End\")"
   ]
  },
  {
   "cell_type": "code",
   "execution_count": null,
   "metadata": {},
   "outputs": [],
   "source": [
    "print(\"hello\")\n",
    "l=[10,20,30,40]\n",
    "try:\n",
    "    index=int(input(\"enter index:\"))\n",
    "    print(\"value of index:\",l[index]) \n",
    "except Exception: #it can handle any type of error exclusive (keyboard interrupt&stop iteration)\n",
    "    index=0\n",
    "    print(\"due to index error,assigning 0 as a index\")\n",
    "    print(\"value of index:\",l[0])\n",
    "print(\"End\")\n"
   ]
  },
  {
   "cell_type": "code",
   "execution_count": null,
   "metadata": {},
   "outputs": [],
   "source": [
    "print(\"hello\")\n",
    "l=[10,20,30,40]\n",
    "try:\n",
    "    index=int(input(\"enter index:\"))\n",
    "    print(\"value of index:\",l[index]) \n",
    "except: #it can handle any type of error \n",
    "    index=0\n",
    "    print(\"due to index error,assigning 0 as a index\")\n",
    "    print(\"value of index:\",l[0])\n",
    "print(\"End\")\n"
   ]
  },
  {
   "cell_type": "markdown",
   "metadata": {},
   "source": [
    "__Else & Finally__"
   ]
  },
  {
   "cell_type": "markdown",
   "metadata": {},
   "source": [
    "* Genrally we use finally block to free the resources (like file/database/network etc)taken in try block.\n",
    "* if in try block,there is no excepltion then else will executes\n",
    "* if if try block execution occure or not finally block always executed"
   ]
  },
  {
   "cell_type": "code",
   "execution_count": null,
   "metadata": {},
   "outputs": [],
   "source": [
    "s=(\"hello\")\n",
    "try:\n",
    "    print(s)\n",
    "except SyntaxError:\n",
    "    print(\"original string:\",s)\n",
    "finally:\n",
    "    print(\"Nice try!\")\n",
    "print(\"End\")\n"
   ]
  },
  {
   "cell_type": "code",
   "execution_count": null,
   "metadata": {},
   "outputs": [],
   "source": [
    "s=(\"hello\")\n",
    "try:\n",
    "    index=int(input(\"enter index:\"))\n",
    "    print(\"index char\",s[index])\n",
    "\n",
    "except IndexError:\n",
    "    print(\"invalid index\")\n",
    "else:\n",
    "    print(\"Nice try!\")\n",
    "print(\"End\")\n"
   ]
  },
  {
   "cell_type": "markdown",
   "metadata": {},
   "source": [
    "__For Function__"
   ]
  },
  {
   "cell_type": "code",
   "execution_count": null,
   "metadata": {},
   "outputs": [],
   "source": [
    "def show():\n",
    "    print(\"here is a function\")\n",
    "    print(1/0)\n",
    "    print(\"opps\")\n",
    "def disp():\n",
    "    print(\"function in the function\")\n",
    "    try:\n",
    "        show()\n",
    "    except:\n",
    "        print(\"good job\")\n",
    "\n",
    "        \n",
    "    "
   ]
  },
  {
   "cell_type": "code",
   "execution_count": null,
   "metadata": {},
   "outputs": [],
   "source": [
    "disp()"
   ]
  },
  {
   "cell_type": "markdown",
   "metadata": {},
   "source": [
    "__special case__"
   ]
  },
  {
   "cell_type": "code",
   "execution_count": null,
   "metadata": {},
   "outputs": [],
   "source": [
    "def num(n):\n",
    "    try:\n",
    "        N=n/10\n",
    "        return N\n",
    "    except:\n",
    "        print(\"0 num can't divisible by 10\")\n",
    "        return 0\n",
    "    finally:\n",
    "        return (\"opps\") \n",
    "print(\"end\")\n"
   ]
  },
  {
   "cell_type": "markdown",
   "metadata": {},
   "source": [
    "Here three returns are present but in exexution try & finally both result is true so\n",
    "finally block's return will become o/p\n"
   ]
  },
  {
   "cell_type": "code",
   "execution_count": null,
   "metadata": {},
   "outputs": [],
   "source": [
    "nn=num(10)\n",
    "nn"
   ]
  },
  {
   "cell_type": "markdown",
   "metadata": {},
   "source": [
    "__Raise keyword__"
   ]
  },
  {
   "cell_type": "markdown",
   "metadata": {},
   "source": [
    "* It is used to genrate exception explicity.\n",
    "* Sometimes need of genrate exception base custom requiremnet and for such requirement interpreter does not genrate exception hence we use raise keyword.\n"
   ]
  },
  {
   "cell_type": "code",
   "execution_count": null,
   "metadata": {},
   "outputs": [],
   "source": [
    "height=int(input(\"enter height in inch\"))\n",
    "if(height<0):\n",
    "    raise ValueError(\"Negative height found\")\n",
    "h=height*2.54\n",
    "print(\"height in cm:\",h)"
   ]
  },
  {
   "cell_type": "markdown",
   "metadata": {},
   "source": [
    "__Assert keyword__"
   ]
  },
  {
   "cell_type": "markdown",
   "metadata": {},
   "source": [
    "* Already include condition loop\n",
    "* it is also used to genrate exception explicity.\n"
   ]
  },
  {
   "cell_type": "code",
   "execution_count": null,
   "metadata": {},
   "outputs": [],
   "source": [
    "height=int(input(\"enter height in inch\"))\n",
    "assert (height>0),\"Negative height found\"\n",
    "\n",
    "h=height*2.54\n",
    "print(\"height in cm:\",h)"
   ]
  },
  {
   "cell_type": "code",
   "execution_count": null,
   "metadata": {},
   "outputs": [],
   "source": []
  }
 ],
 "metadata": {
  "kernelspec": {
   "display_name": "Python 3",
   "language": "python",
   "name": "python3"
  },
  "language_info": {
   "codemirror_mode": {
    "name": "ipython",
    "version": 3
   },
   "file_extension": ".py",
   "mimetype": "text/x-python",
   "name": "python",
   "nbconvert_exporter": "python",
   "pygments_lexer": "ipython3",
   "version": "3.8.5"
  }
 },
 "nbformat": 4,
 "nbformat_minor": 4
}
