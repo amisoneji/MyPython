{
 "cells": [
  {
   "cell_type": "markdown",
   "metadata": {},
   "source": [
    "__program 1:Write the function to find that entered number even or odd.__"
   ]
  },
  {
   "cell_type": "code",
   "execution_count": 2,
   "metadata": {},
   "outputs": [
    {
     "name": "stdout",
     "output_type": "stream",
     "text": [
      "Enter a number:455\n",
      "The number is odd\n"
     ]
    }
   ],
   "source": [
    "num=int(input(\"Enter a number:\"))  \n",
    "def odd_even(num):  \n",
    "    if num%2==0:  \n",
    "        print(\"The number is even\")  \n",
    "    else:  \n",
    "        print(\"The number is odd\")\n",
    "        \n",
    "odd_even(num)"
   ]
  },
  {
   "cell_type": "markdown",
   "metadata": {},
   "source": [
    "__program 2:Write the function to print the entered number in reverse order__\n",
    "\n"
   ]
  },
  {
   "cell_type": "code",
   "execution_count": 3,
   "metadata": {},
   "outputs": [
    {
     "name": "stdout",
     "output_type": "stream",
     "text": [
      "Enter a number:34\n",
      "The reverse number: 43\n"
     ]
    }
   ],
   "source": [
    "num=input(\"Enter a number:\")  \n",
    "def reverse_num(num):  \n",
    "    str=num[::-1]  \n",
    "    num1=int(str)  \n",
    "    print(\"The reverse number:\",num1)  \n",
    "reverse_num(num)  \n"
   ]
  },
  {
   "cell_type": "markdown",
   "metadata": {},
   "source": [
    "__program 3:Write the function to find out whether entered number is prime or not.__"
   ]
  },
  {
   "cell_type": "code",
   "execution_count": 6,
   "metadata": {},
   "outputs": [
    {
     "name": "stdout",
     "output_type": "stream",
     "text": [
      "Enter a number:17\n",
      "number is prime\n"
     ]
    }
   ],
   "source": [
    "num=int(input(\"Enter a number:\"))  \n",
    "def prime_check(num):  \n",
    "    if num>1:  \n",
    "        for i in range(2,num):  \n",
    "            if num%i==0:  \n",
    "                print(\"number is not prime\")  \n",
    "                break  \n",
    "        else:  \n",
    "            print(\"number is prime\")  \n",
    "prime_check(num)  \n"
   ]
  },
  {
   "cell_type": "markdown",
   "metadata": {},
   "source": [
    "__program 4:Write the function to calculate the factorial of a entered number.__"
   ]
  },
  {
   "cell_type": "code",
   "execution_count": 7,
   "metadata": {},
   "outputs": [
    {
     "name": "stdout",
     "output_type": "stream",
     "text": [
      "Enter a number:3\n",
      "6\n"
     ]
    }
   ],
   "source": [
    "num=int(input(\"Enter a number:\"))  \n",
    "def factorial(num):  \n",
    "    factorial=1  \n",
    "    for i in range(1,num+1):  \n",
    "        factorial=factorial*i  \n",
    "    print(factorial)  \n",
    "factorial(num)  \n",
    "  \n"
   ]
  },
  {
   "cell_type": "markdown",
   "metadata": {},
   "source": [
    "__program 5:Write the function to print the Fibonacci series. The number of terms for Fibonacci series will be entered through keyboard.__"
   ]
  },
  {
   "cell_type": "code",
   "execution_count": 8,
   "metadata": {},
   "outputs": [
    {
     "name": "stdout",
     "output_type": "stream",
     "text": [
      "enter a number for which you want Fibonacci series:12\n",
      "0\n",
      "1\n",
      "1\n",
      "2\n",
      "3\n",
      "5\n",
      "8\n",
      "13\n",
      "21\n",
      "34\n",
      "55\n",
      "89\n"
     ]
    }
   ],
   "source": [
    "num=int(input(\"enter a number for which you want Fibonacci series:\"))  \n",
    "def fibonacci_series(num):  \n",
    "    n1=0  \n",
    "    n2=1  \n",
    "    count=0  \n",
    "    while count<num:  \n",
    "        print(n1)  \n",
    "        sum=n1+n2  \n",
    "        n1=n2  \n",
    "        n2=sum  \n",
    "        count=count+1  \n",
    "fibonacci_series(num)  \n"
   ]
  },
  {
   "cell_type": "markdown",
   "metadata": {},
   "source": [
    "__program 6:Write the function to find entered number through keyboard is whether Armstrong or not.__"
   ]
  },
  {
   "cell_type": "code",
   "execution_count": 9,
   "metadata": {},
   "outputs": [
    {
     "name": "stdout",
     "output_type": "stream",
     "text": [
      "Enter a number:45\n",
      "the number is not atrmstrong number\n"
     ]
    }
   ],
   "source": [
    "num=int(input(\"Enter a number:\"))  \n",
    "def armstrong_check(num):  \n",
    "    sum=0  \n",
    "    temp=num  \n",
    "    while temp>0:  \n",
    "        digit=temp%10  \n",
    "        sum=sum+digit**3  \n",
    "        temp//=10  \n",
    "    if num==sum:  \n",
    "        print(\"the number is armstrong number\")  \n",
    "    else:  \n",
    "        print(\"the number is not atrmstrong number\")  \n",
    "armstrong_check(num)    \n"
   ]
  },
  {
   "cell_type": "markdown",
   "metadata": {},
   "source": [
    "__program 7:Write a function to find entered number through keyboard is whether palindrome or not.__"
   ]
  },
  {
   "cell_type": "code",
   "execution_count": 10,
   "metadata": {},
   "outputs": [
    {
     "name": "stdout",
     "output_type": "stream",
     "text": [
      "Enter number which you want to check palindrome:121\n",
      "121  is palindrome\n"
     ]
    }
   ],
   "source": [
    "num=input(\"Enter number which you want to check palindrome:\")  \n",
    "def palindrome_check(num):  \n",
    "    if num[0::]==num[::-1]:  \n",
    "        print(num,\" is palindrome\")  \n",
    "    else:  \n",
    "        print(num,\" is not palindrome\")  \n",
    "palindrome_check(num) \n"
   ]
  },
  {
   "cell_type": "markdown",
   "metadata": {},
   "source": [
    "__program 8:Write a function that takes a number entered through keyboard and find whether it is positive or negative.__"
   ]
  },
  {
   "cell_type": "code",
   "execution_count": 11,
   "metadata": {},
   "outputs": [
    {
     "name": "stdout",
     "output_type": "stream",
     "text": [
      "enter a number:2\n",
      "2 number is postive\n"
     ]
    }
   ],
   "source": [
    "num=int(input(\"enter a number:\"))  \n",
    "def pos_neg_check(num):  \n",
    "    if num>0:  \n",
    "        print(num,\"number is postive\")  \n",
    "    elif num==0:  \n",
    "        print(\"neutral\")  \n",
    "      \n",
    "    else:  \n",
    "        print(num,\"number is negative\")  \n",
    "pos_neg_check(num)  \n"
   ]
  },
  {
   "cell_type": "markdown",
   "metadata": {},
   "source": [
    "__program 9:Write a function that takes two numbers entered through keyboard and return greatest of them.__"
   ]
  },
  {
   "cell_type": "code",
   "execution_count": 12,
   "metadata": {},
   "outputs": [
    {
     "name": "stdout",
     "output_type": "stream",
     "text": [
      "Enter a first number:2\n",
      "Enter a secound number:3\n",
      "3 is greter than 2\n"
     ]
    }
   ],
   "source": [
    "a=int(input(\"Enter a first number:\"))  \n",
    "b=int(input(\"Enter a secound number:\"))  \n",
    "def greter_num(a,b):  \n",
    "    if a>b:  \n",
    "        print(a,\"is greter than\",b)  \n",
    "    else:  \n",
    "        print(b,\"is greter than\",a)  \n",
    "greter_num(a,b)  \n"
   ]
  },
  {
   "cell_type": "markdown",
   "metadata": {},
   "source": [
    "__program 10:Write a function that takes numbers entered through keyboard and return the sum of digits of entered numbers.__"
   ]
  },
  {
   "cell_type": "code",
   "execution_count": 13,
   "metadata": {},
   "outputs": [
    {
     "name": "stdout",
     "output_type": "stream",
     "text": [
      "Enter a number for digit sum:123\n",
      "6\n"
     ]
    }
   ],
   "source": [
    "num=int(input(\"Enter a number for digit sum:\"))  \n",
    "def digit_sum(num):  \n",
    "    sum=0  \n",
    "    temp=num  \n",
    "    while temp>0:  \n",
    "        digit=temp%10  \n",
    "        sum=sum+digit  \n",
    "        temp=temp//10  \n",
    "    print(sum)  \n",
    "digit_sum(num)  \n"
   ]
  },
  {
   "cell_type": "markdown",
   "metadata": {},
   "source": [
    "__program 11: Write a function that takes two numbers a and b, entered through keyboard and return the value ofa^b.__"
   ]
  },
  {
   "cell_type": "code",
   "execution_count": 14,
   "metadata": {},
   "outputs": [
    {
     "name": "stdout",
     "output_type": "stream",
     "text": [
      "Enter a base value:4\n",
      "Enter a power value:2\n",
      "The power: 16\n"
     ]
    }
   ],
   "source": [
    "a=int(input(\"Enter a base value:\"))  \n",
    "b=int(input(\"Enter a power value:\"))  \n",
    "def power(a,b):  \n",
    "    c=a**b  \n",
    "    print(\"The power:\",c)  \n",
    "power(a,b)\n",
    "\n"
   ]
  }
 ],
 "metadata": {
  "kernelspec": {
   "display_name": "Python 3",
   "language": "python",
   "name": "python3"
  },
  "language_info": {
   "codemirror_mode": {
    "name": "ipython",
    "version": 3
   },
   "file_extension": ".py",
   "mimetype": "text/x-python",
   "name": "python",
   "nbconvert_exporter": "python",
   "pygments_lexer": "ipython3",
   "version": "3.8.5"
  }
 },
 "nbformat": 4,
 "nbformat_minor": 4
}
