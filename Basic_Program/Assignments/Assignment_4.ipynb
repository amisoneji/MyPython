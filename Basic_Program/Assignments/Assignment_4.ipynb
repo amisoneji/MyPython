{
 "cells": [
  {
   "cell_type": "markdown",
   "metadata": {},
   "source": [
    "__1.1 Write a Python Program(with class concepts) to find the area of the triangle using the below\n",
    "formula.\n",
    "area = (s*(s-a)*(s-b)*(s-c)) ** 0.5\n",
    "Function to take the length of the sides of triangle from user should be defined in the parent\n",
    "class and function to calculate the area should be defined in subclass.__\n"
   ]
  },
  {
   "cell_type": "code",
   "execution_count": 33,
   "metadata": {},
   "outputs": [],
   "source": [
    "class user_input(object):\n",
    "    def __init__(self,side_1,side_2,side_3):\n",
    "        self.side_1=side_1\n",
    "        self.side_2=side_2\n",
    "        self.side_3=side_3\n",
    "    \n",
    "class area(user_input):\n",
    "    def area_tri(self):\n",
    "        s=(self.side_1+self.side_2+self.side_3)/2\n",
    "        area=(s*(s-self.side_1)*(s-self.side_2)*(s-self.side_3))*0.5\n",
    "        return area\n",
    "    "
   ]
  },
  {
   "cell_type": "code",
   "execution_count": 34,
   "metadata": {},
   "outputs": [],
   "source": [
    "obj=area(5,6,7)"
   ]
  },
  {
   "cell_type": "code",
   "execution_count": 35,
   "metadata": {},
   "outputs": [
    {
     "name": "stdout",
     "output_type": "stream",
     "text": [
      "108.0\n"
     ]
    }
   ],
   "source": [
    "print(obj.area_tri())"
   ]
  },
  {
   "cell_type": "markdown",
   "metadata": {},
   "source": [
    "__1.2 Write a function filter_long_words() that takes a list of words and an integer n and returns\n",
    "the list of words that are longer than n.__\n"
   ]
  },
  {
   "cell_type": "code",
   "execution_count": 37,
   "metadata": {},
   "outputs": [],
   "source": [
    "class user_input(object):\n",
    "    def __init__(self,lst,n):\n",
    "        self.lst=lst\n",
    "        self.n=n\n",
    "    \n",
    "class find_word(user_input):\n",
    "    def longest_word(self):\n",
    "        result=[]\n",
    "        for i in self.lst:\n",
    "            if len(i)>self.n:\n",
    "                result.append(i)\n",
    "        return result"
   ]
  },
  {
   "cell_type": "code",
   "execution_count": 38,
   "metadata": {},
   "outputs": [],
   "source": [
    "obj=find_word([\"ami\",\"ineuron\",\"the best inst\",\"abcabcabcabcabc\"],8)"
   ]
  },
  {
   "cell_type": "code",
   "execution_count": 39,
   "metadata": {},
   "outputs": [
    {
     "name": "stdout",
     "output_type": "stream",
     "text": [
      "['the best inst', 'abcabcabcabcabc']\n"
     ]
    }
   ],
   "source": [
    "print(obj.longest_word())"
   ]
  },
  {
   "cell_type": "markdown",
   "metadata": {},
   "source": [
    "### OR"
   ]
  },
  {
   "cell_type": "code",
   "execution_count": 43,
   "metadata": {},
   "outputs": [],
   "source": [
    "def long_word(l,n):\n",
    "    res=[]\n",
    "    for i in l:\n",
    "        if len(i)>n:\n",
    "            res.append(i)\n",
    "    return res\n",
    "            "
   ]
  },
  {
   "cell_type": "code",
   "execution_count": 44,
   "metadata": {},
   "outputs": [
    {
     "data": {
      "text/plain": [
       "['the best inst', 'abcabcabcabcabc']"
      ]
     },
     "execution_count": 44,
     "metadata": {},
     "output_type": "execute_result"
    }
   ],
   "source": [
    "long_word([\"ami\",\"ineuron\",\"the best inst\",\"abcabcabcabcabc\"],8)"
   ]
  },
  {
   "cell_type": "markdown",
   "metadata": {},
   "source": [
    "__2.1 Write a Python program using function concept that maps list of words into a list of integers\n",
    "representing the lengths of the corresponding words.\n",
    "Hint: If a list [ ab,cde,erty] is passed on to the python function output should come as [2,3,4]\n",
    "Here 2,3 and 4 are the lengths of the words in the list.__"
   ]
  },
  {
   "cell_type": "code",
   "execution_count": 40,
   "metadata": {},
   "outputs": [],
   "source": [
    "class user_input(object):\n",
    "    def __init__(self,lst):\n",
    "        self.lst=lst\n",
    "\n",
    "    \n",
    "class find_len(user_input):\n",
    "    def findlen(self):\n",
    "        result=[]\n",
    "        for i in self.lst:\n",
    "            result.append(len(i))\n",
    "        return result"
   ]
  },
  {
   "cell_type": "code",
   "execution_count": 41,
   "metadata": {},
   "outputs": [
    {
     "name": "stdout",
     "output_type": "stream",
     "text": [
      "[7, 4, 8]\n"
     ]
    }
   ],
   "source": [
    "obj=find_len([\"ineuron\",\"best\",\"exercise\"])\n",
    "print(obj.findlen())"
   ]
  },
  {
   "cell_type": "markdown",
   "metadata": {},
   "source": [
    "### OR\n"
   ]
  },
  {
   "cell_type": "code",
   "execution_count": 42,
   "metadata": {},
   "outputs": [
    {
     "name": "stdout",
     "output_type": "stream",
     "text": [
      "length of all word: [7, 4, 8]\n"
     ]
    }
   ],
   "source": [
    "input_list=[\"ineuron\",\"best\",\"exercise\"]\n",
    "res=list(map(lambda l:len(l),input_list))\n",
    "print(\"length of all word:\",res)"
   ]
  },
  {
   "cell_type": "markdown",
   "metadata": {},
   "source": [
    "__2.2 Write a Python function which takes a character (i.e. a string of length 1) and returns True if\n",
    "it is a vowel, False otherwise.__"
   ]
  },
  {
   "cell_type": "code",
   "execution_count": 28,
   "metadata": {},
   "outputs": [],
   "source": [
    "class user_input(object):\n",
    "    def __init__(self,char):\n",
    "        self.char=char\n",
    "\n",
    "class find_vowel(user_input):\n",
    "    def vowel(self):\n",
    "        if self.char in \"aeiouAEIOU\":\n",
    "            return True\n",
    "        else:\n",
    "            return False"
   ]
  },
  {
   "cell_type": "code",
   "execution_count": 29,
   "metadata": {},
   "outputs": [
    {
     "name": "stdout",
     "output_type": "stream",
     "text": [
      "False\n"
     ]
    }
   ],
   "source": [
    "obj=find_vowel(\"c\")\n",
    "print(obj.vowel())"
   ]
  },
  {
   "cell_type": "code",
   "execution_count": 30,
   "metadata": {},
   "outputs": [
    {
     "name": "stdout",
     "output_type": "stream",
     "text": [
      "True\n"
     ]
    }
   ],
   "source": [
    "obj=find_vowel(\"A\")\n",
    "print(obj.vowel())"
   ]
  },
  {
   "cell_type": "code",
   "execution_count": 45,
   "metadata": {},
   "outputs": [
    {
     "name": "stdout",
     "output_type": "stream",
     "text": [
      "True\n"
     ]
    }
   ],
   "source": [
    "obj=find_vowel(\"i\")\n",
    "print(obj.vowel())"
   ]
  }
 ],
 "metadata": {
  "kernelspec": {
   "display_name": "Python 3",
   "language": "python",
   "name": "python3"
  },
  "language_info": {
   "codemirror_mode": {
    "name": "ipython",
    "version": 3
   },
   "file_extension": ".py",
   "mimetype": "text/x-python",
   "name": "python",
   "nbconvert_exporter": "python",
   "pygments_lexer": "ipython3",
   "version": "3.8.5"
  }
 },
 "nbformat": 4,
 "nbformat_minor": 4
}
