{
 "cells": [
  {
   "cell_type": "markdown",
   "metadata": {},
   "source": [
    "__1. Write a Python program to read an entire text file.__\n"
   ]
  },
  {
   "cell_type": "code",
   "execution_count": 17,
   "metadata": {},
   "outputs": [
    {
     "name": "stdout",
     "output_type": "stream",
     "text": [
      "Python is an interpreted, high-level and general-purpose programming language. Python's design philosophy emphasizes code readability with its notable use of significant whitespace. Its language constructs and object-oriented approach aim to help programmers write clear, logical code for small and large-scale projects.\n",
      "\n",
      "\n"
     ]
    }
   ],
   "source": [
    "file=open(\"C:\\\\Users\\\\AMI\\\\Desktop\\\\AMI\\\\basic python\\\\prac.txt\",\"r\")\n",
    "text=file.read()\n",
    "print(text)\n",
    "file.close()\n",
    "\n"
   ]
  },
  {
   "cell_type": "markdown",
   "metadata": {},
   "source": [
    "__2. Write a Python program to read first n lines of a file.__\n"
   ]
  },
  {
   "cell_type": "code",
   "execution_count": 25,
   "metadata": {},
   "outputs": [
    {
     "name": "stdout",
     "output_type": "stream",
     "text": [
      "['Python is an interpreted, high-level and general-purpose programming language. \\n', \"Python's design philosophy emphasizes code \\n\"]\n"
     ]
    }
   ],
   "source": [
    "file=open(\"C:\\\\Users\\\\AMI\\\\Desktop\\\\AMI\\\\basic python\\\\prac.txt\",\"r\")\n",
    "text=file.readlines()\n",
    "print(text[0:2])\n",
    "file.close()\n",
    "\n"
   ]
  },
  {
   "cell_type": "markdown",
   "metadata": {},
   "source": [
    "__3. Write a Python program to append text to a file and display the text__"
   ]
  },
  {
   "cell_type": "code",
   "execution_count": 30,
   "metadata": {},
   "outputs": [],
   "source": [
    "file=open(\"C:\\\\Users\\\\AMI\\\\Desktop\\\\AMI\\\\basic python\\\\prac.txt\",\"a\")\n",
    "file.write(\"\\nPython is very reliable\")\n",
    "file.close()\n"
   ]
  },
  {
   "cell_type": "markdown",
   "metadata": {},
   "source": [
    "__4. Write a Python program to read last n lines of a file.__"
   ]
  },
  {
   "cell_type": "code",
   "execution_count": 51,
   "metadata": {},
   "outputs": [
    {
     "name": "stdout",
     "output_type": "stream",
     "text": [
      "5\n",
      "['Python is very reliable', ' whitespace. Its language constructs and object-oriented approach aim to help programmers write clear, logical code for small and large-scale projects.\\n']\n"
     ]
    }
   ],
   "source": [
    "file=open(\"C:\\\\Users\\\\AMI\\\\Desktop\\\\AMI\\\\basic python\\\\prac.txt\",\"r\")\n",
    "text=file.readlines()\n",
    "print(len(text))\n",
    "print(text[4:2:-1])\n",
    "file.close()\n"
   ]
  },
  {
   "cell_type": "markdown",
   "metadata": {},
   "source": [
    "__5. Write a Python program to read a file line by line and store it into a list.__"
   ]
  },
  {
   "cell_type": "code",
   "execution_count": 52,
   "metadata": {},
   "outputs": [
    {
     "name": "stdout",
     "output_type": "stream",
     "text": [
      "['Python is an interpreted, high-level and general-purpose programming language. ', \"Python's design philosophy emphasizes code \", 'readability with its notable use of significant', ' whitespace. Its language constructs and object-oriented approach aim to help programmers write clear, logical code for small and large-scale projects.', 'Python is very reliable']\n"
     ]
    }
   ],
   "source": [
    "file=open(\"C:\\\\Users\\\\AMI\\\\Desktop\\\\AMI\\\\basic python\\\\prac.txt\",\"r\")\n",
    "text=file.read()\n",
    "list=text.split(\"\\n\")\n",
    "print(list)\n",
    "file.close()\n",
    "\n"
   ]
  },
  {
   "cell_type": "markdown",
   "metadata": {},
   "source": [
    "__6. Write a Python program to read a file line by line store it into a variable.__"
   ]
  },
  {
   "cell_type": "code",
   "execution_count": 53,
   "metadata": {},
   "outputs": [
    {
     "name": "stdout",
     "output_type": "stream",
     "text": [
      "['Python is an interpreted, high-level and general-purpose programming language. \\n', \"Python's design philosophy emphasizes code \\n\", 'readability with its notable use of significant\\n', ' whitespace. Its language constructs and object-oriented approach aim to help programmers write clear, logical code for small and large-scale projects.\\n', 'Python is very reliable']\n"
     ]
    }
   ],
   "source": [
    "file=open(\"C:\\\\Users\\\\AMI\\\\Desktop\\\\AMI\\\\basic python\\\\prac.txt\",\"r\")\n",
    "text=file.readlines()\n",
    "print(text[0::])\n",
    "file.close()\n"
   ]
  },
  {
   "cell_type": "markdown",
   "metadata": {},
   "source": [
    "__7. Write a Python program to read a file line by line store it into a list.__"
   ]
  },
  {
   "cell_type": "code",
   "execution_count": 54,
   "metadata": {},
   "outputs": [
    {
     "name": "stdout",
     "output_type": "stream",
     "text": [
      "['Python is an interpreted, high-level and general-purpose programming language. ', \"Python's design philosophy emphasizes code \", 'readability with its notable use of significant', ' whitespace. Its language constructs and object-oriented approach aim to help programmers write clear, logical code for small and large-scale projects.', 'Python is very reliable']\n"
     ]
    }
   ],
   "source": [
    "file=open(\"C:\\\\Users\\\\AMI\\\\Desktop\\\\AMI\\\\basic python\\\\prac.txt\",\"r\")\n",
    "text=file.read()\n",
    "list=text.split(\"\\n\")\n",
    "print(list)\n",
    "file.close()\n",
    "\n"
   ]
  },
  {
   "cell_type": "markdown",
   "metadata": {},
   "source": [
    "__8. Write a python program to find the longest words of a file.__"
   ]
  },
  {
   "cell_type": "code",
   "execution_count": 71,
   "metadata": {},
   "outputs": [
    {
     "name": "stdout",
     "output_type": "stream",
     "text": [
      "['Ami', 'jaymin', 'surat', 'gujrat\\n']\n",
      "the longest word: gujrat\n",
      "\n"
     ]
    }
   ],
   "source": [
    "file=open(\"C:\\\\Users\\\\AMI\\\\Desktop\\\\AMI\\\\basic python\\\\input.txt\",\"r\")\n",
    "text=file.read()\n",
    "list=text.split(\" \")\n",
    "print(list)\n",
    "largest_word=\"\"\n",
    "largest_length=0\n",
    "for word in list:\n",
    "    if len(largest_word)<len(word):\n",
    "        largest_word=len(word)\n",
    "        largest_word=word\n",
    "        \n",
    "print(\"the longest word:\",word)\n",
    "\n",
    "file.close()\n",
    "\n"
   ]
  },
  {
   "cell_type": "markdown",
   "metadata": {},
   "source": [
    "__9. Write a Python program to count the number of lines in a text file__"
   ]
  },
  {
   "cell_type": "code",
   "execution_count": 77,
   "metadata": {},
   "outputs": [
    {
     "name": "stdout",
     "output_type": "stream",
     "text": [
      "['Python is an interpreted, high-level and general-purpose programming language.', \"Python's design philosophy emphasizes code readability with its notable use of significant whitespace.\", 'Its language constructs and object-oriented approach aim to help programmers write clear.']\n",
      "3\n"
     ]
    }
   ],
   "source": [
    "file=open(\"C:\\\\Users\\\\AMI\\\\Desktop\\\\AMI\\\\basic python\\\\line.txt\",\"r\")\n",
    "text=file.read()\n",
    "list=text.split(\"\\n\")\n",
    "print(list)\n",
    "print(len(list))\n",
    "file.close()\n"
   ]
  },
  {
   "cell_type": "markdown",
   "metadata": {},
   "source": [
    "__10. Write a Python program to count the frequency of words in a file.__"
   ]
  },
  {
   "cell_type": "code",
   "execution_count": 81,
   "metadata": {},
   "outputs": [
    {
     "name": "stdout",
     "output_type": "stream",
     "text": [
      "Python 's freuency: 2\n",
      "is 's freuency: 1\n",
      "an 's freuency: 4\n",
      "interpreted, 's freuency: 1\n",
      "high-level 's freuency: 1\n",
      "and 's freuency: 1\n",
      "general-purpose 's freuency: 1\n",
      "programming 's freuency: 1\n",
      "language.\n",
      "Python's 's freuency: 1\n",
      "design 's freuency: 1\n",
      "philosophy 's freuency: 1\n",
      "emphasizes 's freuency: 1\n",
      "code 's freuency: 1\n",
      "readability 's freuency: 1\n",
      "with 's freuency: 1\n",
      "its 's freuency: 1\n",
      "notable 's freuency: 1\n",
      "use 's freuency: 1\n",
      "of 's freuency: 1\n",
      "significant 's freuency: 1\n",
      "whitespace.\n",
      " 's freuency: 1\n"
     ]
    }
   ],
   "source": [
    "file=open(\"C:\\\\Users\\\\AMI\\\\Desktop\\\\AMI\\\\basic python\\\\freq.txt\",\"r\")\n",
    "text=file.read()\n",
    "words=text.split(\" \")\n",
    "for w in words:\n",
    "    print (w,\"'s freuency:\",text.count(w))\n",
    "file.close()\n"
   ]
  },
  {
   "cell_type": "markdown",
   "metadata": {},
   "source": [
    "__11. Write a Python program to get the file size of a plain file.__"
   ]
  },
  {
   "cell_type": "code",
   "execution_count": 97,
   "metadata": {},
   "outputs": [
    {
     "name": "stdout",
     "output_type": "stream",
     "text": [
      "the size of file: 0 bytes\n"
     ]
    }
   ],
   "source": [
    "import os\n",
    "#file=open(\"C:\\\\Users\\\\AMI\\\\Desktop\\\\AMI\\\\basic python\\\\empty.txt\",\"r\")\n",
    "\n",
    "info= os.stat(\"C:\\\\Users\\\\AMI\\\\Desktop\\\\AMI\\\\basic python\\\\empty.txt\")\n",
    "print(\"the size of file:\", info.st_size,\"bytes\")\n",
    "file.close()\n"
   ]
  },
  {
   "cell_type": "markdown",
   "metadata": {},
   "source": [
    "__12. Write a Python program to write a list to a file.__\n"
   ]
  },
  {
   "cell_type": "code",
   "execution_count": 21,
   "metadata": {},
   "outputs": [
    {
     "ename": "AttributeError",
     "evalue": "'int' object has no attribute 'split'",
     "output_type": "error",
     "traceback": [
      "\u001b[1;31m---------------------------------------------------------------------------\u001b[0m",
      "\u001b[1;31mAttributeError\u001b[0m                            Traceback (most recent call last)",
      "\u001b[1;32m<ipython-input-21-0457e8a890c8>\u001b[0m in \u001b[0;36m<module>\u001b[1;34m\u001b[0m\n\u001b[0;32m      1\u001b[0m \u001b[0mfile\u001b[0m\u001b[1;33m=\u001b[0m\u001b[0mopen\u001b[0m\u001b[1;33m(\u001b[0m\u001b[1;34m\"C:\\\\Users\\\\AMI\\\\Desktop\\\\AMI\\\\basic python\\\\write.txt\"\u001b[0m\u001b[1;33m,\u001b[0m\u001b[1;34m\"w\"\u001b[0m\u001b[1;33m)\u001b[0m\u001b[1;33m\u001b[0m\u001b[1;33m\u001b[0m\u001b[0m\n\u001b[0;32m      2\u001b[0m \u001b[0mt\u001b[0m\u001b[1;33m=\u001b[0m\u001b[0mfile\u001b[0m\u001b[1;33m.\u001b[0m\u001b[0mwrite\u001b[0m\u001b[1;33m(\u001b[0m\u001b[1;34m\"2021\"\u001b[0m\u001b[1;33m)\u001b[0m\u001b[1;33m\u001b[0m\u001b[1;33m\u001b[0m\u001b[0m\n\u001b[1;32m----> 3\u001b[1;33m \u001b[0mt\u001b[0m\u001b[1;33m.\u001b[0m\u001b[0msplit\u001b[0m\u001b[1;33m(\u001b[0m\u001b[1;34m\"\"\u001b[0m\u001b[1;33m)\u001b[0m\u001b[1;33m\u001b[0m\u001b[1;33m\u001b[0m\u001b[0m\n\u001b[0m\u001b[0;32m      4\u001b[0m \u001b[1;31m#list=[]\u001b[0m\u001b[1;33m\u001b[0m\u001b[1;33m\u001b[0m\u001b[1;33m\u001b[0m\u001b[0m\n\u001b[0;32m      5\u001b[0m \u001b[1;31m#list.append(t)\u001b[0m\u001b[1;33m\u001b[0m\u001b[1;33m\u001b[0m\u001b[1;33m\u001b[0m\u001b[0m\n",
      "\u001b[1;31mAttributeError\u001b[0m: 'int' object has no attribute 'split'"
     ]
    }
   ],
   "source": [
    "file=open(\"C:\\\\Users\\\\AMI\\\\Desktop\\\\AMI\\\\basic python\\\\write.txt\",\"w\")\n",
    "t=file.write(\"2021\")\n",
    "t.split(\"\")\n",
    "#list=[]\n",
    "#list.append(t)\n",
    "print(\"list created\")\n",
    "\n",
    "\n",
    "file.close()\n"
   ]
  },
  {
   "cell_type": "markdown",
   "metadata": {},
   "source": [
    "__13. Write a Python program to copy the contents of a file to another  file .__ "
   ]
  },
  {
   "cell_type": "code",
   "execution_count": 142,
   "metadata": {},
   "outputs": [],
   "source": [
    "fst_file=open(\"C:\\\\Users\\\\AMI\\\\Desktop\\\\AMI\\\\basic python\\\\freq.txt\",\"r\")\n",
    "text=fst_file.read()\n",
    "scnd_file=open(\"C:\\\\Users\\\\AMI\\\\Desktop\\\\AMI\\\\basic python\\\\empty.txt\",\"a\")\n",
    "t=text.split(\"\\n\")\n",
    "for line in t: \n",
    "     scnd_file.write(line)\n"
   ]
  },
  {
   "cell_type": "markdown",
   "metadata": {},
   "source": [
    " __14.program to combine each line from first file with the corresponding line in second file.__"
   ]
  },
  {
   "cell_type": "code",
   "execution_count": 152,
   "metadata": {},
   "outputs": [
    {
     "name": "stdout",
     "output_type": "stream",
     "text": [
      "ami soneji\n",
      "jaymin mamtora\n"
     ]
    }
   ],
   "source": [
    "fst_file=open(\"C:\\\\Users\\\\AMI\\\\Desktop\\\\AMI\\\\basic python\\\\1st.txt\",\"r\")\n",
    "text1=fst_file.read()\n",
    "scnd_file=open(\"C:\\\\Users\\\\AMI\\\\Desktop\\\\AMI\\\\basic python\\\\2nd.txt\",\"r\")\n",
    "text2=scnd_file.read()\n",
    "t1=text1.split(\"\\n\")\n",
    "#print(t1)\n",
    "t2=text2.split(\"\\n\")\n",
    "#print(t2)\n",
    "print (t1[0]+\" \" + t2[0])\n",
    "print (t1[1]+\" \"+t2[1])\n"
   ]
  },
  {
   "cell_type": "markdown",
   "metadata": {},
   "source": [
    "__15. Write a Python program to read a random line from a file.__"
   ]
  },
  {
   "cell_type": "code",
   "execution_count": 1,
   "metadata": {},
   "outputs": [],
   "source": [
    "import random"
   ]
  },
  {
   "cell_type": "code",
   "execution_count": 6,
   "metadata": {},
   "outputs": [
    {
     "name": "stdout",
     "output_type": "stream",
     "text": [
      "readability with its notable use of significant\n",
      "\n"
     ]
    }
   ],
   "source": [
    "file=open(\"C:\\\\Users\\\\AMI\\\\Desktop\\\\AMI\\\\basic python\\\\prac.txt\",\"r\")\n",
    "lines=file.readlines()\n",
    "print(random.choice(lines))\n"
   ]
  },
  {
   "cell_type": "markdown",
   "metadata": {},
   "source": [
    "__16. Write a Python program to assess if a file is closed or not.__ "
   ]
  },
  {
   "cell_type": "code",
   "execution_count": 9,
   "metadata": {},
   "outputs": [
    {
     "name": "stdout",
     "output_type": "stream",
     "text": [
      "file is open\n"
     ]
    }
   ],
   "source": [
    "file=open(\"C:\\\\Users\\\\AMI\\\\Desktop\\\\AMI\\\\basic python\\\\prac.txt\",\"r\")\n",
    "#file.close()\n",
    "if file.closed:\n",
    "    print (\"file is closed\")\n",
    "else:\n",
    "    print(\"file is open\")\n",
    "        \n",
    "\n",
    "\n"
   ]
  },
  {
   "cell_type": "markdown",
   "metadata": {},
   "source": [
    "__17. Write a Python program to remove newline characters from a file.__"
   ]
  },
  {
   "cell_type": "code",
   "execution_count": 4,
   "metadata": {},
   "outputs": [
    {
     "name": "stdout",
     "output_type": "stream",
     "text": [
      "['Python is an interpreted, high-level and general-purpose programming language. \\n', \"Python's design philosophy emphasizes code readability with its notable use of significant indentation. \\n\", 'Its language constructs and object-oriented approach aim to help programmers write clear, logical code for small and large-scale projects.\\n', '\\n']\n"
     ]
    }
   ],
   "source": [
    "list=open(\"python.txt\").readlines()\n",
    "for l in list:\n",
    "    l.rstrip('\\n')\n",
    "print(list)"
   ]
  },
  {
   "cell_type": "markdown",
   "metadata": {},
   "source": [
    "__18. Write a Python program that takes a text file as input and returns the number of words of a given text file.__  "
   ]
  },
  {
   "cell_type": "code",
   "execution_count": 20,
   "metadata": {},
   "outputs": [
    {
     "name": "stdout",
     "output_type": "stream",
     "text": [
      "Python is an interpreted high level and general-purpose programming language\n",
      "\n",
      "['Python', 'is', 'an', 'interpreted', 'high', 'level', 'and', 'general-purpose', 'programming', 'language\\n']\n",
      "no.of words: 10\n"
     ]
    }
   ],
   "source": [
    "file=open(\"C:\\\\Users\\\\AMI\\\\Desktop\\\\AMI\\\\basic python\\\\freq.txt\",\"r\")\n",
    "text=file.read()\n",
    "s=text.replace(\",\", \" \")\n",
    "print(s)\n",
    "words=s.split(\" \")\n",
    "print(words)\n",
    "print(\"no.of words:\",len(words))\n"
   ]
  },
  {
   "cell_type": "markdown",
   "metadata": {},
   "source": [
    "__19. Write a Python program to extract characters from various text files and puts them into a list.__   "
   ]
  },
  {
   "cell_type": "code",
   "execution_count": 24,
   "metadata": {},
   "outputs": [
    {
     "name": "stdout",
     "output_type": "stream",
     "text": [
      "['!', '@', '&', '*', '_']\n"
     ]
    }
   ],
   "source": [
    "fst_file=open(\"C:\\\\Users\\\\AMI\\\\Desktop\\\\AMI\\\\basic python\\\\char1.txt\",\"r\")\n",
    "text1=fst_file.read()\n",
    "scnd_file=open(\"C:\\\\Users\\\\AMI\\\\Desktop\\\\AMI\\\\basic python\\\\char2.txt\",\"r\")\n",
    "text2=scnd_file.read()\n",
    "l=list()\n",
    "s=\"!@#$%^&*()_\"\n",
    "for i in s:\n",
    "    if i in text1:\n",
    "        l.append(i)\n",
    "for j in s:\n",
    "    if j in text2:\n",
    "        l.append(j)\n",
    "\n",
    "\n",
    "print(l)\n"
   ]
  },
  {
   "cell_type": "markdown",
   "metadata": {},
   "source": [
    "__20. Write a Python program to generate 26 text files named A.txt, B.txt, and so on up to Z.txt.__"
   ]
  },
  {
   "cell_type": "code",
   "execution_count": 29,
   "metadata": {},
   "outputs": [],
   "source": [
    "alpha=\"ABCDEFGHIJKLMNOPQRSTUVWXYZ\"\n",
    "for i in alpha:\n",
    "    file=open(\"C:/Users/AMI/Desktop/A-Z/\"+i+\".txt\",\"w\")\n"
   ]
  }
 ],
 "metadata": {
  "kernelspec": {
   "display_name": "Python 3",
   "language": "python",
   "name": "python3"
  },
  "language_info": {
   "codemirror_mode": {
    "name": "ipython",
    "version": 3
   },
   "file_extension": ".py",
   "mimetype": "text/x-python",
   "name": "python",
   "nbconvert_exporter": "python",
   "pygments_lexer": "ipython3",
   "version": "3.8.5"
  }
 },
 "nbformat": 4,
 "nbformat_minor": 4
}
